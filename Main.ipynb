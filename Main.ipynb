{
 "cells": [
  {
   "cell_type": "code",
   "execution_count": 10,
   "id": "1390584a",
   "metadata": {},
   "outputs": [],
   "source": [
    "import pandas as pd\n",
    "from datetime import datetime\n",
    "import numpy as np\n",
    "from datetime import datetime, timedelta"
   ]
  },
  {
   "cell_type": "code",
   "execution_count": 11,
   "id": "11287da7",
   "metadata": {},
   "outputs": [],
   "source": [
    "import action_cls\n",
    "import portfolio_cls\n",
    "import yf_cls"
   ]
  },
  {
   "cell_type": "code",
   "execution_count": 12,
   "id": "4489c901",
   "metadata": {},
   "outputs": [],
   "source": [
    "#parametre de calcul\n",
    "rf= 0.02\n",
    "period= 252\n",
    "startdate = '2024-08-01'\n",
    "enddate = \"2024-10-01\""
   ]
  },
  {
   "cell_type": "code",
   "execution_count": 13,
   "id": "bdffbd20",
   "metadata": {},
   "outputs": [
    {
     "name": "stderr",
     "output_type": "stream",
     "text": [
      "[*********************100%***********************]  1 of 1 completed\n",
      "[*********************100%***********************]  1 of 1 completed\n",
      "\n",
      "1 Failed download:\n",
      "['OVH']: YFPricesMissingError('$%ticker%: possibly delisted; no price data found  (1d 2024-08-01 -> 2024-10-01)')\n",
      "[*********************100%***********************]  1 of 1 completed\n",
      "\n",
      "1 Failed download:\n",
      "['WLN']: YFPricesMissingError('$%ticker%: possibly delisted; no price data found  (1d 2024-08-01 -> 2024-10-01)')\n",
      "[*********************100%***********************]  1 of 1 completed\n"
     ]
    }
   ],
   "source": [
    "Tickers=['ATO','OVH','WLN','ACA']\n",
    "data_actions=[]\n",
    "\n",
    "for ticker in Tickers:\n",
    "    # Initialiser l'extracteur pour l'action\n",
    "    extractor = yf_cls.YahooFinanceExtractor(ticker)\n",
    "\n",
    "    # Récupérer les prix sous forme de DataFrame\n",
    "    prices_df = extractor.get_prices(startdate,enddate)\n",
    "\n",
    "    action = action_cls.Action()\n",
    "    action.prix_data=prices_df\n",
    "    action.stock_name=ticker\n",
    "\n",
    "    data_actions.append(action)\n"
   ]
  },
  {
   "cell_type": "code",
   "execution_count": 14,
   "id": "7511ef58",
   "metadata": {},
   "outputs": [
    {
     "ename": "IndexError",
     "evalue": "list index out of range",
     "output_type": "error",
     "traceback": [
      "\u001b[1;31m---------------------------------------------------------------------------\u001b[0m",
      "\u001b[1;31mIndexError\u001b[0m                                Traceback (most recent call last)",
      "Cell \u001b[1;32mIn[14], line 9\u001b[0m\n\u001b[0;32m      7\u001b[0m quantity\u001b[38;5;241m=\u001b[39m[\u001b[38;5;241m3\u001b[39m,\u001b[38;5;241m1\u001b[39m,\u001b[38;5;241m7\u001b[39m]\n\u001b[0;32m      8\u001b[0m \u001b[38;5;66;03m# Ajout des actions avec des poids respectifs\u001b[39;00m\n\u001b[1;32m----> 9\u001b[0m prix_port\u001b[38;5;241m=\u001b[39m\u001b[38;5;28msum\u001b[39m([q\u001b[38;5;241m*\u001b[39ma\u001b[38;5;241m.\u001b[39mprix_data[\u001b[38;5;241m-\u001b[39m\u001b[38;5;241m1\u001b[39m][\u001b[38;5;241m1\u001b[39m] \u001b[38;5;28;01mfor\u001b[39;00m q,a \u001b[38;5;129;01min\u001b[39;00m \u001b[38;5;28mzip\u001b[39m(quantity,data_actions)]) \n\u001b[0;32m     10\u001b[0m \u001b[38;5;28;01mif\u001b[39;00m prix_port\u001b[38;5;241m>\u001b[39m\u001b[38;5;241m=\u001b[39m portefeuille\u001b[38;5;241m.\u001b[39mmontant_investi:\n\u001b[0;32m     11\u001b[0m     \u001b[38;5;28;01mraise\u001b[39;00m portfolio_cls\u001b[38;5;241m.\u001b[39mWeightSumExceededError(\u001b[38;5;124mf\u001b[39m\u001b[38;5;124m\"\u001b[39m\u001b[38;5;124mLa somme des pris*quantité ((\u001b[39m\u001b[38;5;132;01m{\u001b[39;00mprix_port\u001b[38;5;132;01m}\u001b[39;00m\u001b[38;5;124m))dépasse (\u001b[39m\u001b[38;5;132;01m{\u001b[39;00mportefeuille\u001b[38;5;241m.\u001b[39mmontant_investi\u001b[38;5;132;01m}\u001b[39;00m\u001b[38;5;124m).\u001b[39m\u001b[38;5;124m\"\u001b[39m)\n",
      "Cell \u001b[1;32mIn[14], line 9\u001b[0m, in \u001b[0;36m<listcomp>\u001b[1;34m(.0)\u001b[0m\n\u001b[0;32m      7\u001b[0m quantity\u001b[38;5;241m=\u001b[39m[\u001b[38;5;241m3\u001b[39m,\u001b[38;5;241m1\u001b[39m,\u001b[38;5;241m7\u001b[39m]\n\u001b[0;32m      8\u001b[0m \u001b[38;5;66;03m# Ajout des actions avec des poids respectifs\u001b[39;00m\n\u001b[1;32m----> 9\u001b[0m prix_port\u001b[38;5;241m=\u001b[39m\u001b[38;5;28msum\u001b[39m([q\u001b[38;5;241m*\u001b[39ma\u001b[38;5;241m.\u001b[39mprix_data[\u001b[38;5;241m-\u001b[39m\u001b[38;5;241m1\u001b[39m][\u001b[38;5;241m1\u001b[39m] \u001b[38;5;28;01mfor\u001b[39;00m q,a \u001b[38;5;129;01min\u001b[39;00m \u001b[38;5;28mzip\u001b[39m(quantity,data_actions)]) \n\u001b[0;32m     10\u001b[0m \u001b[38;5;28;01mif\u001b[39;00m prix_port\u001b[38;5;241m>\u001b[39m\u001b[38;5;241m=\u001b[39m portefeuille\u001b[38;5;241m.\u001b[39mmontant_investi:\n\u001b[0;32m     11\u001b[0m     \u001b[38;5;28;01mraise\u001b[39;00m portfolio_cls\u001b[38;5;241m.\u001b[39mWeightSumExceededError(\u001b[38;5;124mf\u001b[39m\u001b[38;5;124m\"\u001b[39m\u001b[38;5;124mLa somme des pris*quantité ((\u001b[39m\u001b[38;5;132;01m{\u001b[39;00mprix_port\u001b[38;5;132;01m}\u001b[39;00m\u001b[38;5;124m))dépasse (\u001b[39m\u001b[38;5;132;01m{\u001b[39;00mportefeuille\u001b[38;5;241m.\u001b[39mmontant_investi\u001b[38;5;132;01m}\u001b[39;00m\u001b[38;5;124m).\u001b[39m\u001b[38;5;124m\"\u001b[39m)\n",
      "\u001b[1;31mIndexError\u001b[0m: list index out of range"
     ]
    }
   ],
   "source": [
    "# Création du portefeuille\n",
    "portefeuille = portfolio_cls.Portefeuille()\n",
    "portefeuille.montant_investi=100000\n",
    "portefeuille.actions = [(0,action) for action in data_actions]\n",
    "\n",
    "\n",
    "quantity=[3,1,7]\n",
    "# Ajout des actions avec des poids respectifs\n",
    "prix_port=sum([q*a.prix_data[-1][1] for q,a in zip(quantity,data_actions)]) \n",
    "if prix_port>= portefeuille.montant_investi:\n",
    "    raise portfolio_cls.WeightSumExceededError(f\"La somme des pris*quantité (({prix_port}))dépasse ({portefeuille.montant_investi}).\")\n",
    "else:\n",
    "    portefeuille.actions = [(q,action) for q,action in zip(quantity,data_actions)]\n"
   ]
  },
  {
   "cell_type": "code",
   "execution_count": 8,
   "id": "2623f95c",
   "metadata": {},
   "outputs": [
    {
     "data": {
      "text/plain": [
       "1.2639048876475556"
      ]
     },
     "execution_count": 8,
     "metadata": {},
     "output_type": "execute_result"
    }
   ],
   "source": [
    "portefeuille.calculer_volatilite_annualisee_portefeuille()*100\n",
    "\n"
   ]
  },
  {
   "cell_type": "code",
   "execution_count": 9,
   "id": "a9aa907d",
   "metadata": {},
   "outputs": [
    {
     "data": {
      "text/plain": [
       "1.8866296639039282"
      ]
     },
     "execution_count": 9,
     "metadata": {},
     "output_type": "execute_result"
    }
   ],
   "source": [
    "portefeuille.calculer_sharpe_ratio_portefeuille(rf)"
   ]
  },
  {
   "cell_type": "code",
   "execution_count": null,
   "id": "0d0f64c6",
   "metadata": {},
   "outputs": [],
   "source": []
  }
 ],
 "metadata": {
  "kernelspec": {
   "display_name": "base",
   "language": "python",
   "name": "python3"
  },
  "language_info": {
   "codemirror_mode": {
    "name": "ipython",
    "version": 3
   },
   "file_extension": ".py",
   "mimetype": "text/x-python",
   "name": "python",
   "nbconvert_exporter": "python",
   "pygments_lexer": "ipython3",
   "version": "3.11.5"
  }
 },
 "nbformat": 4,
 "nbformat_minor": 5
}
